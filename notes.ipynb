{
 "cells": [
  {
   "cell_type": "markdown",
   "metadata": {},
   "source": [
    "# Chemistry 313: Machine Learning in Chemistry\n",
    "Spring 2025, Dinner"
   ]
  },
  {
   "cell_type": "code",
   "execution_count": 1,
   "metadata": {},
   "outputs": [],
   "source": [
    "import torch\n",
    "import jax\n",
    "import numpy as np\n",
    "import jax.numpy as jnp\n",
    "import matplotlib.pyplot as plt"
   ]
  },
  {
   "cell_type": "code",
   "execution_count": 16,
   "metadata": {},
   "outputs": [],
   "source": [
    "jkey = jax.random.PRNGKey(seed=1)\n",
    "j2key = jax.random.PRNGKey(seed=2)\n",
    "j3key = jax.random.PRNGKey(seed=3)"
   ]
  },
  {
   "cell_type": "markdown",
   "metadata": {},
   "source": [
    "## 3/24/25\n",
    "Types of ML\n",
    " - supervised: data = $\\{(x_i,y_i)\\}_i$, x is features y is label\n",
    "    - regression ($y \\in \\mathbb{R}^d$)\n",
    "    - classifcation ($y \\in \\mathbb{Z}^d, \\{c_0,c_1,\\ldots,c_d\\}$)\n",
    " - unsupervised\n",
    "    - dimensional reduction (visualization, speed optimization)\n",
    "    - density estimation\n",
    "    - clustering\n",
    " - RL\n",
    "    - choosing actions (faces the credit assignment problem which is overdetermined)\n",
    "    - protein design\n",
    "\n",
    "test data, train data, validation data (holdout) to prevent overfitting\n",
    "- in chemistry hard to split because often correlations, \"leakage\" between train and test\n",
    "cross validation (kfold)\n",
    "- make k groups of test-train and cycle through and then average over the groups"
   ]
  },
  {
   "cell_type": "markdown",
   "metadata": {},
   "source": [
    "## 3/26/25\n",
    "### Regularization\n",
    "- modification to the procedure directed at reducing test error without changing training error\n",
    "- types: ridge (L2) (better usually, hard to interpret, not robust to outliers), lasso (L1) (sparse coeffs, better for interpretability, outlier robust)\n",
    "Q-regularization with hyperparameter $\\lambda$:\n",
    "$$\\tilde{L}(\\beta) = \\sum^{N_{test}} (\\hat{y}_n - y_n)^2 + \\frac{\\lambda}{2}\\sum_i \\beta_i ^q$$\n",
    "\n",
    "### Bias-Variance Decomposition\n",
    "$$y = f(x) + \\varepsilon$$\n",
    "learn $\\hat{y}(\\{x_n,y_n\\})$\n",
    "\n",
    "$E[(y-\\hat{y})^2] = (f(x)-E[\\hat{y}])^2 + E[(E[\\hat{y}]-\\hat{y})^2] + E[\\varepsilon^2]$\n",
    "\n",
    "ie = average deviation from truth based on model (bias)^2 + variance of the model between data draws + noise\n",
    "\n",
    "better generalization = lower variance\n",
    "there is a tradeoff between low variance low bias\n",
    "\n",
    "### Linear Basis Regression\n",
    "basis functions nonlinear\n",
    "$$\\hat{y}(x) = \\sum w_j \\phi_j(x) $$\n",
    "$$\\phi_0(x) = 1$$\n",
    "\n",
    "assume $y(x) = f(x) + \\varepsilon$ where $\\varepsilon \\sim N(0,\\sigma^2)$\n",
    "\n",
    "$$p(\\{y_n\\} | w, \\sigma^2) = \\Pi_n^N \\frac{1}{\\sqrt{2\\pi\\sigma^2}}\\exp(-\\frac{1}{2}(y_n - \\sum w_j \\phi_j(x))^2)$$\n",
    "likelihood of seeing that data if the model were correct\n",
    "\n",
    "MLE: $$w^*, \\sigma^{2*} = \\arg\\max \\log p(\\{y_n\\} | w,\\sigma^2)$$\n",
    "$$= -N/2 \\log(2\\pi \\sigma^2) - \\frac{1}{2\\sigma^2} \\sum (y_n -\\sum w_j \\phi_j(x))^2$$\n",
    "$$= -N/2 \\log(2\\pi \\sigma^2) - L/\\sigma^2$$\n",
    "\n",
    "Taking gradients and setting to 0: $$\\hat{y} = \\Phi w$$\n",
    "$$w = (\\Phi^T \\Phi)^{-1}\\Phi^{-T}y_n$$"
   ]
  },
  {
   "cell_type": "markdown",
   "metadata": {},
   "source": [
    "## 4/4"
   ]
  },
  {
   "cell_type": "markdown",
   "metadata": {},
   "source": [
    "### PCA\n",
    "\n",
    "$ x \\in \\mathbb{R}^R \\quad z \\in \\mathbb{R}^K$\n",
    "\n",
    "\n",
    "$L = \\frac{1}{N} \\sum_n^N ||x_n - \\text{decode}(\\text{encode}(x))||^2$\n",
    "\n",
    "encode, decode are linear\n",
    "\n",
    "$z = W^T x \\quad W^TW = I$ W is orthogonal\n",
    "\n",
    "$L = \\frac{1}{N}\\sum_n ||x-Wz||^2$\n",
    "\n",
    "$x_n = \\sum_k z_{nk}w_k$\n",
    "\n",
    "for $K=1$\n",
    "\n",
    "$L = \\frac{1}{N}\\sum_n (x-w_1z_{n1})^T(x_n -w_1 z_{n1})$\n",
    "\n",
    "$\\frac{\\partial L}{\\partial z_{n1}} = -2w_1 \\cdot x_n + 2 z_{n1}$\n",
    "\n",
    "$\\tilde{L} = - \\frac{1}{N}\\sum_n z_{n1}^2 = - w_1^T (\\frac{1}{N}\\sum_n x_n x_n^T) w_1 = -w_1^T \\Sigma w_1$\n",
    "\n",
    "Unitarity Constraint:\n",
    "\n",
    "$\\tilde{L}' = -w_1^T \\Sigma w_1 + \\lambda (w_1^T  w_1 -1)$\n",
    "\n",
    "$\\Sigma w_1 = \\lambda w_1$\n",
    "\n",
    "$\\lambda = w_1^T \\Sigma w_1 = \\tilde{L}$\n",
    "\n",
    "therefore pick the largest eigenvalue of $\\Sigma$\n",
    "\n",
    "#### PCA maximizes variance\n",
    "$\\text{Var}(z_{n1}) = \\frac{1}{N} \\sum_n z_{n1}^2 = -\\tilde{L}$"
   ]
  },
  {
   "cell_type": "markdown",
   "metadata": {},
   "source": []
  },
  {
   "cell_type": "code",
   "execution_count": null,
   "metadata": {},
   "outputs": [],
   "source": []
  }
 ],
 "metadata": {
  "kernelspec": {
   "display_name": "jiang",
   "language": "python",
   "name": "python3"
  },
  "language_info": {
   "codemirror_mode": {
    "name": "ipython",
    "version": 3
   },
   "file_extension": ".py",
   "mimetype": "text/x-python",
   "name": "python",
   "nbconvert_exporter": "python",
   "pygments_lexer": "ipython3",
   "version": "3.12.4"
  }
 },
 "nbformat": 4,
 "nbformat_minor": 2
}
