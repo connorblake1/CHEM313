{
 "cells": [
  {
   "cell_type": "markdown",
   "metadata": {},
   "source": [
    "# Chemistry 313: Machine Learning in Chemistry\n",
    "Spring 2025, Dinner"
   ]
  },
  {
   "cell_type": "code",
   "execution_count": 1,
   "metadata": {},
   "outputs": [],
   "source": [
    "import torch\n",
    "import jax\n",
    "import numpy as np\n",
    "import jax.numpy as jnp\n",
    "import matplotlib.pyplot as plt"
   ]
  },
  {
   "cell_type": "code",
   "execution_count": 16,
   "metadata": {},
   "outputs": [],
   "source": [
    "jkey = jax.random.PRNGKey(seed=1)\n",
    "j2key = jax.random.PRNGKey(seed=2)\n",
    "j3key = jax.random.PRNGKey(seed=3)"
   ]
  },
  {
   "cell_type": "markdown",
   "metadata": {},
   "source": [
    "## 3/24/25\n",
    "Types of ML\n",
    " - supervised: data = $\\{(x_i,y_i)\\}_i$, x is features y is label\n",
    "    - regression ($y \\in \\mathbb{R}^d$)\n",
    "    - classifcation ($y \\in \\mathbb{Z}^d, \\{c_0,c_1,\\ldots,c_d\\}$)\n",
    " - unsupervised\n",
    "    - dimensional reduction (visualization, speed optimization)\n",
    "    - density estimation\n",
    "    - clustering\n",
    " - RL\n",
    "    - choosing actions (faces the credit assignment problem which is overdetermined)\n",
    "    - protein design\n",
    "\n",
    "test data, train data, validation data (holdout) to prevent overfitting\n",
    "- in chemistry hard to split because often correlations, \"leakage\" between train and test\n",
    "cross validation (kfold)\n",
    "- make k groups of test-train and cycle through and then average over the groups"
   ]
  }
 ],
 "metadata": {
  "kernelspec": {
   "display_name": "jiang",
   "language": "python",
   "name": "python3"
  },
  "language_info": {
   "codemirror_mode": {
    "name": "ipython",
    "version": 3
   },
   "file_extension": ".py",
   "mimetype": "text/x-python",
   "name": "python",
   "nbconvert_exporter": "python",
   "pygments_lexer": "ipython3",
   "version": "3.12.4"
  }
 },
 "nbformat": 4,
 "nbformat_minor": 2
}
