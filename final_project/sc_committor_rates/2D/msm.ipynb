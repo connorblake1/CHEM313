{
 "cells": [
  {
   "cell_type": "markdown",
   "metadata": {},
   "source": [
    "# Markov State Models\n",
    "must be run in config.py validation_mode = False and in environment md_sims"
   ]
  },
  {
   "cell_type": "code",
   "execution_count": 4,
   "metadata": {},
   "outputs": [
    {
     "name": "stderr",
     "output_type": "stream",
     "text": [
      "/home/cjblake/Desktop/C313/final_project/sc_committor_rates/2D/utils.py:9: UserWarning: To copy construct from a tensor, it is recommended to use sourceTensor.clone().detach() or sourceTensor.clone().detach().requires_grad_(True), rather than torch.tensor(sourceTensor).\n",
      "  X, Y = torch.meshgrid(torch.tensor(x), torch.tensor(y), indexing='ij')\n"
     ]
    }
   ],
   "source": [
    "import torch\n",
    "import matplotlib.pyplot as plt\n",
    "from global_utils import CommittorNet, mpath, cnmsam\n",
    "from sklearn.cluster import DBSCAN\n",
    "import numpy as np\n",
    "from config import V\n",
    "import json"
   ]
  },
  {
   "cell_type": "code",
   "execution_count": null,
   "metadata": {},
   "outputs": [],
   "source": [
    "run_name = \"wells_linear_5_a0_b4_K2\" # this is the awful training run on the 5 Linear Wells show in the presentation\n",
    "dim = 2\n",
    "K = 2"
   ]
  },
  {
   "cell_type": "code",
   "execution_count": null,
   "metadata": {},
   "outputs": [],
   "source": [
    "net2 = CommittorNet(dim=dim,K=K)\n",
    "net2.load_state_dict(torch.load(mpath(f\"{run_name}.pt\")))\n",
    "running_xs_all = torch.load(mpath(f\"{run_name}_rxs.pt\")).float()\n",
    "out_means_k = torch.load(mpath(f\"{run_name}_k.pt\"))\n",
    "centers_k = torch.load(mpath(f\"{run_name}_ctrs.pt\"))"
   ]
  },
  {
   "cell_type": "code",
   "execution_count": null,
   "metadata": {},
   "outputs": [],
   "source": [
    "with torch.no_grad():\n",
    "    q_nn = cnmsam(net2,running_xs_all,torch.ones(K)).detach().cpu().numpy()\n",
    "running_xs = running_xs_all.cpu().numpy()"
   ]
  },
  {
   "cell_type": "code",
   "execution_count": null,
   "metadata": {},
   "outputs": [],
   "source": [
    "print(q_nn.shape)\n",
    "np.sum(q_nn,axis=1) # for K = 2, this should be all ones\n",
    "q_A = q_nn[:,0].squeeze()"
   ]
  },
  {
   "cell_type": "code",
   "execution_count": null,
   "metadata": {},
   "outputs": [],
   "source": [
    "db = DBSCAN(eps=0.01, min_samples=10)\n",
    "labels = db.fit_predict(q_A.reshape([-1,1]))\n",
    "unique_labels = set(labels)\n",
    "colors = plt.cm.get_cmap('tab10', len(unique_labels))\n",
    "print(unique_labels)"
   ]
  },
  {
   "cell_type": "code",
   "execution_count": null,
   "metadata": {},
   "outputs": [],
   "source": [
    "k_centers_out = []\n",
    "plt.figure(figsize=(6,6))\n",
    "for k in unique_labels:\n",
    "    class_member_mask = (labels == k)\n",
    "    q_k = q_A[class_member_mask]\n",
    "    xy_k = running_xs_all[class_member_mask]\n",
    "    V_xy_k = V(xy_k)\n",
    "    xy_ck = xy_k[torch.argmin(V_xy_k)]\n",
    "    \n",
    "    if k == -1:\n",
    "        # Noise\n",
    "        plt.scatter(xy_k[:,0], q_k, c='k', s=10, label='noise')\n",
    "    else:\n",
    "        k_centers_out.append(xy_ck)\n",
    "        k_mean = np.mean(q_k)\n",
    "        print(k,xy_ck, k_mean)\n",
    "        plt.scatter(xy_k[:,0],q_k, c=[colors(k)], s=10, label=f'Cluster {k}')\n",
    "        plt.scatter(xy_ck[0],k_mean,c=colors(k),marker=\"*\",s=300)\n",
    "plt.ylabel(r\"$q_A$ Committor\",fontsize=16)\n",
    "plt.xlabel(\"X Coordinate\",fontsize=16)\n",
    "plt.title(\"Bad Rate Estimator, Good Metastability Estimator\",fontsize=18)\n",
    "plt.legend(fontsize=14)\n",
    "plt.xticks(fontsize=14)\n",
    "plt.yticks(fontsize=14)\n",
    "plt.show()\n",
    "\n",
    "print(torch.stack(k_centers_out))"
   ]
  },
  {
   "cell_type": "markdown",
   "metadata": {},
   "source": [
    "## Markov State Model"
   ]
  },
  {
   "cell_type": "code",
   "execution_count": 5,
   "metadata": {},
   "outputs": [],
   "source": [
    "run_name = \"wells_linear_5_a0_b4_K5\""
   ]
  },
  {
   "cell_type": "code",
   "execution_count": 22,
   "metadata": {},
   "outputs": [],
   "source": [
    "with open(mpath(run_name + \"_exits.json\"), encoding=\"utf-8\") as f:\n",
    "    transfers_dict = json.load(f)\n",
    "transfers = [transfers_dict[key] for key in transfers_dict.keys()]\n",
    "rates = torch.load(mpath(run_name+ \"_k.pt\")).cpu().numpy()[-1,:]"
   ]
  },
  {
   "cell_type": "code",
   "execution_count": 21,
   "metadata": {},
   "outputs": [
    {
     "data": {
      "text/plain": [
       "array([2.34161626e-05, 1.53143666e-05, 3.93428392e-03, 1.47087876e-03,\n",
       "       1.53457274e-03])"
      ]
     },
     "execution_count": 21,
     "metadata": {},
     "output_type": "execute_result"
    }
   ],
   "source": [
    "rates[-1,:]"
   ]
  },
  {
   "cell_type": "code",
   "execution_count": 13,
   "metadata": {},
   "outputs": [],
   "source": [
    "rates = [3.52506437e-05, 3.70972579e-05, 2.27186130e-03, 6.92297970e-04, 2.00196078e-03]\n",
    "# transfers = [[2, 2, 2, 2, 2, 2, 2, 2, 2, 2, 2, 2, 2, 2, 2, 2, 2, 2, 2, 2, 2, 2, 2, 2, 2, 2, 2, 2, 2, 2, 2, 2, 2, 2, 2, 2, 2, 2, 2, 2, 2, 2, 2], [4, 4, 4, 4, 4, 4, 4, 4, 4, 4, 4, 4, 4, 4, 4, 4, 4, 4, 4, 4, 4, 4, 4, 4, 4, 4, 4, 4, 4, 4, 4, 4, 4, 4, 4, 4, 4, 4], [0, 0, 3, 3, 3, 3, 3, 0, 0, 3, 0, 0, 0, 0, 0, 0, 0, 0, 0, 0, 0, 0, 3, 0, 3, 3, 0, 0, 0, 3, 0, 0, 0, 0, 3, 0, 3, 0, 0, 0, 0, 0, 0, 0, 3, 0, 0, 0, 0, 0, 0, 0, 0], [2, 2, 2, 2, 2, 2, 2, 4, 4, 4, 4, 2, 4, 2, 4, 2, 4, 2, 4, 2, 4, 2, 4, 2, 2, 2, 2, 2, 4, 4, 4, 4, 2, 4, 2, 2, 2, 4, 2, 4, 4, 4, 2, 4, 2, 2], [1, 1, 1, 1, 1, 3, 3, 1, 3, 3, 1, 1, 1, 3, 1, 3, 1, 1, 3, 1, 3, 1, 3, 3, 1, 1, 1, 1, 1, 1, 3, 3, 1, 1, 1, 1, 1, 1, 1, 1, 1, 3, 1, 1, 3, 1, 1, 3, 3, 1]]"
   ]
  },
  {
   "cell_type": "code",
   "execution_count": 23,
   "metadata": {},
   "outputs": [],
   "source": [
    "import numpy as np\n",
    "\n",
    "def build_Q(exit_rates, exit_indices):\n",
    "    K = len(exit_rates)\n",
    "    Q = np.zeros((K, K))\n",
    "    for i, dests in enumerate(exit_indices):\n",
    "        n = len(dests)\n",
    "        if n:\n",
    "            counts = np.bincount(dests, minlength=K)\n",
    "            Q[i] = exit_rates[i] * counts / n\n",
    "        Q[i, i] = -exit_rates[i]\n",
    "    return Q\n",
    "\n",
    "def mfpt_all_pairs(Q):\n",
    "    K = Q.shape[0]\n",
    "    M = np.zeros((K, K))\n",
    "    for j in range(K):\n",
    "        A = Q.copy()\n",
    "        b = -np.ones(K)\n",
    "        A[j, :] = 0\n",
    "        A[j, j] = 1\n",
    "        b[j] = 0\n",
    "        M[:, j] = np.linalg.solve(A, b)\n",
    "    return M\n"
   ]
  },
  {
   "cell_type": "code",
   "execution_count": 24,
   "metadata": {},
   "outputs": [
    {
     "name": "stdout",
     "output_type": "stream",
     "text": [
      "[[-2.34161626e-05  0.00000000e+00  2.34161626e-05  0.00000000e+00\n",
      "   0.00000000e+00]\n",
      " [ 0.00000000e+00 -1.53143666e-05  0.00000000e+00  0.00000000e+00\n",
      "   1.53143666e-05]\n",
      " [ 2.74207667e-03  0.00000000e+00 -3.93428392e-03  1.19220725e-03\n",
      "   0.00000000e+00]\n",
      " [ 0.00000000e+00  0.00000000e+00  8.27369300e-04 -1.47087876e-03\n",
      "   6.43509456e-04]\n",
      " [ 0.00000000e+00  9.59107965e-04  0.00000000e+00  5.75464779e-04\n",
      "  -1.53457274e-03]]\n"
     ]
    }
   ],
   "source": [
    "Q_run = build_Q(rates, transfers)\n",
    "print(Q_run)"
   ]
  },
  {
   "cell_type": "code",
   "execution_count": 25,
   "metadata": {},
   "outputs": [
    {
     "data": {
      "text/plain": [
       "array([ 0.00000000e+00,  0.00000000e+00, -2.16840434e-19,  0.00000000e+00,\n",
       "        0.00000000e+00])"
      ]
     },
     "execution_count": 25,
     "metadata": {},
     "output_type": "execute_result"
    }
   ],
   "source": [
    "Q_run.sum(axis=1) # should be 0s"
   ]
  },
  {
   "cell_type": "code",
   "execution_count": 26,
   "metadata": {},
   "outputs": [
    {
     "data": {
      "text/plain": [
       "array([[     0., 349080.,  42706., 141767., 270686.],\n",
       "       [301352.,      0., 263072., 175866.,  65298.],\n",
       "       [ 38280., 306374.,      0.,  99062., 227980.],\n",
       "       [125486., 207313.,  87206.,      0., 128919.],\n",
       "       [236054.,  78394., 197774., 110568.,      0.]])"
      ]
     },
     "execution_count": 26,
     "metadata": {},
     "output_type": "execute_result"
    }
   ],
   "source": [
    "mfpt = mfpt_all_pairs(Q_run).round()\n",
    "mfpt"
   ]
  },
  {
   "cell_type": "code",
   "execution_count": 27,
   "metadata": {},
   "outputs": [
    {
     "name": "stdout",
     "output_type": "stream",
     "text": [
      "effective rate 0->1: 2.86e-06\n",
      "effective rate 1->0: 3.32e-06\n"
     ]
    }
   ],
   "source": [
    "print(\"effective rate 0->1:\",f\"{1/mfpt[0,1]:.2e}\")\n",
    "print(\"effective rate 1->0:\",f\"{1/mfpt[1,0]:.2e}\")"
   ]
  },
  {
   "cell_type": "markdown",
   "metadata": {},
   "source": [
    "Very good agreement forward and backward!"
   ]
  }
 ],
 "metadata": {
  "kernelspec": {
   "display_name": "md_sims",
   "language": "python",
   "name": "python3"
  },
  "language_info": {
   "codemirror_mode": {
    "name": "ipython",
    "version": 3
   },
   "file_extension": ".py",
   "mimetype": "text/x-python",
   "name": "python",
   "nbconvert_exporter": "python",
   "pygments_lexer": "ipython3",
   "version": "3.9.22"
  }
 },
 "nbformat": 4,
 "nbformat_minor": 2
}
