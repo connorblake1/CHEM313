{
 "cells": [
  {
   "cell_type": "markdown",
   "metadata": {},
   "source": [
    "# Markov State Models"
   ]
  },
  {
   "cell_type": "code",
   "execution_count": 1,
   "metadata": {},
   "outputs": [
    {
     "name": "stderr",
     "output_type": "stream",
     "text": [
      "/home/cjblake/Desktop/C313/final_project/sc_committor_rates/2D/utils.py:9: UserWarning: To copy construct from a tensor, it is recommended to use sourceTensor.clone().detach() or sourceTensor.clone().detach().requires_grad_(True), rather than torch.tensor(sourceTensor).\n",
      "  X, Y = torch.meshgrid(torch.tensor(x), torch.tensor(y), indexing='ij')\n"
     ]
    }
   ],
   "source": [
    "import torch\n",
    "import matplotlib.pyplot as plt\n",
    "from global_utils import CommittorNet"
   ]
  },
  {
   "cell_type": "code",
   "execution_count": null,
   "metadata": {},
   "outputs": [],
   "source": [
    "run_name = \"your_run_name\""
   ]
  },
  {
   "cell_type": "code",
   "execution_count": null,
   "metadata": {},
   "outputs": [],
   "source": [
    "net2.load_state_dict(torch.load(mpath(f\"{run_name}.pt\")))\n",
    "running_xs_all = torch.load(mpath(f\"{run_name}_rxs.pt\"))\n",
    "out_means_k = torch.load(mpath(f\"{run_name}_k.pt\"))\n",
    "centers_k = torch.load(mpath(f\"{run_name}_ctrs.pt\"))"
   ]
  }
 ],
 "metadata": {
  "kernelspec": {
   "display_name": "md_sims",
   "language": "python",
   "name": "python3"
  },
  "language_info": {
   "codemirror_mode": {
    "name": "ipython",
    "version": 3
   },
   "file_extension": ".py",
   "mimetype": "text/x-python",
   "name": "python",
   "nbconvert_exporter": "python",
   "pygments_lexer": "ipython3",
   "version": "3.9.22"
  }
 },
 "nbformat": 4,
 "nbformat_minor": 2
}
